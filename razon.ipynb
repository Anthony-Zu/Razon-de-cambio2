{
 "cells": [
  {
   "attachments": {},
   "cell_type": "markdown",
   "id": "7d5afd42",
   "metadata": {},
   "source": [
    "# LIBRO CALCULO EN UNA VARIABLE\n",
    "# TERCERA EDICIÓN \n",
    "# UNSA\n",
    "\n",
    "## EJERCICIOS PROPUESTOS RAZON DE CAMBIO\n",
    "\n",
    "\n",
    "\n",
    "\n",
    "### 69. Una pelota que se lanza verticalmente hacia arriba en el instante t = 0 (segundos) con una velocidad inical de 29 m/s. y una altura inicial de 36 metros, tiene la funcion  de altura:\n",
    "\n",
    "$$  y(t) = -7t^2 + 29t +36$$\n",
    "\n",
    "#### a) ¿cual es la altura maxima alcanzada por la pelota?\n",
    "#### b) ¿en que instante y con que rápidez impacta la bola en el suelo?\n",
    "\n",
    "#### R. 66.04 m.\n",
    "#### R. 36/7 s y 43m/s.\n",
    "\n",
    "### resolución\n",
    "\n",
    "datos:\n",
    "\\begin{align*}\n",
    " v&= 29m/s \\\\h &= 36 m  \\\\  y(t) &= -7t^2 + 29t +36 \\quad\\text{(1)}\n",
    "\\end{align*}\n",
    " \n",
    "#### a) ¿cual es la altura maxima alcanzada por la pelota?\n",
    "\n",
    "#### sabemos que: \n",
    "\n",
    "$ cuando: \\ \\ \\ v = 0   \\ \\ \\rightarrow \\ h = maximo \\\\ \\dfrac{\\partial y}{\\partial t} = v = 0   $\n",
    "\n",
    "derivando la ec(1)\n",
    "\n",
    "\\begin{align*}\n",
    "\\dfrac{\\partial y}{\\partial t} &= -14t +29\\\\ 0 &= -14t +29 \\\\ t &= \\dfrac{\\ 29}{\\ 14}s \\ \\ \\ \\  (2)\n",
    "\\end{align*}\n",
    "\n",
    "reemplazando (2) en (1)\n",
    "\n",
    "$$  y(14) = -7\\times14^2 + 29\\times14 +36 \\\\ \\boxed{y(max) = 66.04 \\ \\ metros}$$\n",
    "\n",
    "\n",
    "hola mundo....\n",
    "\n",
    "\n",
    "\n",
    "\n",
    "       \n",
    " "
   ]
  },
  {
   "cell_type": "code",
   "execution_count": null,
   "id": "b406ce56",
   "metadata": {},
   "outputs": [],
   "source": []
  },
  {
   "cell_type": "code",
   "execution_count": null,
   "id": "84c0f7d5",
   "metadata": {},
   "outputs": [],
   "source": []
  }
 ],
 "metadata": {
  "kernelspec": {
   "display_name": "Python 3 (ipykernel)",
   "language": "python",
   "name": "python3"
  },
  "language_info": {
   "codemirror_mode": {
    "name": "ipython",
    "version": 3
   },
   "file_extension": ".py",
   "mimetype": "text/x-python",
   "name": "python",
   "nbconvert_exporter": "python",
   "pygments_lexer": "ipython3",
   "version": "3.9.12"
  }
 },
 "nbformat": 4,
 "nbformat_minor": 5
}
