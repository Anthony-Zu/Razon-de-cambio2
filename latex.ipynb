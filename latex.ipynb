{
 "cells": [
  {
   "cell_type": "markdown",
   "id": "999c7410",
   "metadata": {},
   "source": [
    "\n",
    "\n",
    "\n",
    "\n",
    "\n",
    "\n"
   ]
  },
  {
   "cell_type": "markdown",
   "id": "cd58fb28",
   "metadata": {},
   "source": [
    "\n",
    "$$ u = t^3 +5t$$\n",
    "$$ du = 3t^2+5dx$$\n",
    "\n",
    "$$6t^2+10 =2(3t^2+5)$$\n",
    "\n",
    "$$ \\int_1^{10} \\frac{2udu}{u^2}  = 2\\ln{(t^3+5t)} +c $$\n"
   ]
  },
  {
   "cell_type": "markdown",
   "id": "9d6c6ff1",
   "metadata": {},
   "source": [
    "$$ y = x^2log_3x$$\n",
    "$$y' = 2xlog_3x +  \\frac{x}{\\ln3}$$\n"
   ]
  },
  {
   "cell_type": "markdown",
   "id": "a625e167",
   "metadata": {},
   "source": [
    "\n",
    "\n",
    "\n",
    "$$ \\frac{(4)^3(4)^5}{(4)^2} = \\frac{(4)^{3+5}}{(4)^2} = \\frac{(4)^8}{(4)^2} = (4)^{8-2} = (4)^{6}  $$  \n",
    "\n",
    "\n",
    "\n",
    "\n",
    "\n",
    "\n",
    "\n",
    "\n",
    "\n",
    "\n"
   ]
  },
  {
   "cell_type": "markdown",
   "id": "ba55d549",
   "metadata": {},
   "source": [
    "x = precio de las cajas que compro\n",
    "\n",
    "\n",
    "y = cantidad de cajas\n",
    "\n",
    "$$22*y    = x*y+72$$\n",
    "$$18*y    = x*y-28$$\n",
    "\n",
    "$$4y = 100$$\n",
    "$$y = 25   cajas$$\n",
    "\n",
    "\n"
   ]
  },
  {
   "cell_type": "code",
   "execution_count": null,
   "id": "bbaa9e84",
   "metadata": {},
   "outputs": [],
   "source": [
    "\n"
   ]
  }
 ],
 "metadata": {
  "kernelspec": {
   "display_name": "Python 3 (ipykernel)",
   "language": "python",
   "name": "python3"
  },
  "language_info": {
   "codemirror_mode": {
    "name": "ipython",
    "version": 3
   },
   "file_extension": ".py",
   "mimetype": "text/x-python",
   "name": "python",
   "nbconvert_exporter": "python",
   "pygments_lexer": "ipython3",
   "version": "3.9.12"
  }
 },
 "nbformat": 4,
 "nbformat_minor": 5
}
