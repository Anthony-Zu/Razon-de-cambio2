{
 "cells": [
  {
   "cell_type": "code",
   "execution_count": null,
   "id": "590e5fb0",
   "metadata": {},
   "outputs": [],
   "source": [
    "from math import sqrt\n",
    "\n",
    "x = -1\n",
    "\n",
    "while x < 0:\n",
    "    \n",
    "    x = float(input(\"ingresa un numero positivo \"))\n",
    "    \n",
    "\n",
    "print(\"La raiz cuadrada de {0} es {1}\".format(x,sqrt(x)))\n",
    "\n",
    "\n",
    "\n"
   ]
  },
  {
   "cell_type": "code",
   "execution_count": 19,
   "id": "a1aa671f",
   "metadata": {},
   "outputs": [
    {
     "ename": "TypeError",
     "evalue": "only size-1 arrays can be converted to Python scalars",
     "output_type": "error",
     "traceback": [
      "\u001b[1;31m---------------------------------------------------------------------------\u001b[0m",
      "\u001b[1;31mTypeError\u001b[0m                                 Traceback (most recent call last)",
      "Input \u001b[1;32mIn [19]\u001b[0m, in \u001b[0;36m<cell line: 17>\u001b[1;34m()\u001b[0m\n\u001b[0;32m     14\u001b[0m v \u001b[38;5;241m=\u001b[39m [\u001b[38;5;241m5\u001b[39m,\u001b[38;5;241m20\u001b[39m,\u001b[38;5;241m-\u001b[39m\u001b[38;5;241m5\u001b[39m,\u001b[38;5;241m40\u001b[39m]\n\u001b[0;32m     15\u001b[0m x \u001b[38;5;241m=\u001b[39m np\u001b[38;5;241m.\u001b[39mlinspace(\u001b[38;5;241m-\u001b[39m\u001b[38;5;241m10\u001b[39m, \u001b[38;5;241m30\u001b[39m, \u001b[38;5;241m500\u001b[39m)\n\u001b[1;32m---> 17\u001b[0m plt\u001b[38;5;241m.\u001b[39mplot(x,\u001b[43mf\u001b[49m\u001b[43m(\u001b[49m\u001b[43mx\u001b[49m\u001b[43m)\u001b[49m)\n\u001b[0;32m     19\u001b[0m plt\u001b[38;5;241m.\u001b[39mxlabel(\u001b[38;5;124m\"\u001b[39m\u001b[38;5;124mvalores de x\u001b[39m\u001b[38;5;124m\"\u001b[39m)\n\u001b[0;32m     20\u001b[0m plt\u001b[38;5;241m.\u001b[39mylabel(\u001b[38;5;124mr\u001b[39m\u001b[38;5;124m'\u001b[39m\u001b[38;5;124m$f(c)$\u001b[39m\u001b[38;5;124m'\u001b[39m)\n",
      "Input \u001b[1;32mIn [19]\u001b[0m, in \u001b[0;36mf\u001b[1;34m(x)\u001b[0m\n\u001b[0;32m      7\u001b[0m \u001b[38;5;28;01mimport\u001b[39;00m \u001b[38;5;21;01mmath\u001b[39;00m\n\u001b[0;32m      8\u001b[0m zx_c\u001b[38;5;241m=\u001b[39m\u001b[38;5;241m2\u001b[39m\u001b[38;5;241m*\u001b[39mx\n\u001b[1;32m----> 9\u001b[0m zx_c\u001b[38;5;241m=\u001b[39m\u001b[38;5;28;43mfloat\u001b[39;49m\u001b[43m(\u001b[49m\u001b[38;5;241;43m2\u001b[39;49m\u001b[38;5;241;43m*\u001b[39;49m\u001b[43mx\u001b[49m\u001b[43m)\u001b[49m\n\u001b[0;32m     10\u001b[0m zx_c2 \u001b[38;5;241m=\u001b[39m math\u001b[38;5;241m.\u001b[39mradians(zx_c)\n\u001b[0;32m     12\u001b[0m \u001b[38;5;28;01mreturn\u001b[39;00m \u001b[38;5;241m2\u001b[39m\u001b[38;5;241m*\u001b[39mx\u001b[38;5;241m*\u001b[39mcos(zx_c) \u001b[38;5;241m-\u001b[39m(x\u001b[38;5;241m+\u001b[39m\u001b[38;5;241m1\u001b[39m)\u001b[38;5;241m*\u001b[39m\u001b[38;5;241m*\u001b[39m\u001b[38;5;241m2\u001b[39m\n",
      "\u001b[1;31mTypeError\u001b[0m: only size-1 arrays can be converted to Python scalars"
     ]
    }
   ],
   "source": [
    "\n",
    "\n",
    "\n",
    "from math import e, cos\n",
    "import matplotlib.pyplot as plt\n",
    "import numpy as np\n",
    "\n",
    "# problema del libro Chapra-Canales 7ma Edicion pg.99\n",
    "def f(x):\n",
    "    import math\n",
    "    zx_c=2*x\n",
    "    zx_c=float(2*x)\n",
    "    zx_c2 = math.radians(zx_c)\n",
    "    \n",
    "    return 2*x*cos(zx_c) -(x+1)**2\n",
    "\n",
    "v = [5,20,-5,40]\n",
    "x = np.linspace(-10, 30, 500)\n",
    "\n",
    "plt.plot(x,f(x))\n",
    "\n",
    "plt.xlabel(\"valores de x\")\n",
    "plt.ylabel(r'$f(c)$')\n",
    "plt.title('Grafica de $f(c)$') \n",
    "plt.grid()\n",
    "plt.axis(v)\n",
    "plt.axhline(0,color=\"b\",lw=2)\n",
    "\n",
    "plt.show()\n",
    "\n",
    "\n",
    "a = float(input(\"Ingresa el intervalo inferior: \"))\n",
    "b = float(input(\"Ingresa el intervalo superior: \"))\n",
    "\n",
    "if f(a) * f(b) < 0 and b - a > 0:\n",
    "    \n",
    "    def biseccion(a ,b, epsilon):\n",
    "        \n",
    "        print( \"\\n{:^20}{:^20}{:^20}{:^20}\".format(\"a\",\"b\",\"c\",'f(c)\\n'))\n",
    "        \n",
    "        c = (a + b ) / 2\n",
    "        \n",
    "        while f(c) != 0 and b - a > epsilon:\n",
    "            \n",
    "            print( \"{:^20.6f}{:^20.6f}{:^20.6f}{:^20.6f}\".format( a, b, c, f(c) ))\n",
    "            \n",
    "            if f(a) * f(c) > 0:\n",
    "                \n",
    "                a = c\n",
    "            \n",
    "            else:\n",
    "                b = c\n",
    "                \n",
    "            c = (a + b ) / 2\n",
    "            \n",
    "        return c\n",
    "    \n",
    "    print(\"\\nEl cero esta en: \", biseccion(a,b,1e-5))\n",
    "\n",
    "else:\n",
    "    \n",
    "    print(\"No hay cambio de signo en el intervalo revise la grafica\")\n",
    "       "
   ]
  },
  {
   "cell_type": "code",
   "execution_count": 13,
   "id": "895e1faf",
   "metadata": {},
   "outputs": [
    {
     "data": {
      "text/plain": [
       "'~'"
      ]
     },
     "execution_count": 13,
     "metadata": {},
     "output_type": "execute_result"
    }
   ],
   "source": [
    "chr(126)\n"
   ]
  },
  {
   "cell_type": "code",
   "execution_count": null,
   "id": "56a48d85",
   "metadata": {},
   "outputs": [],
   "source": []
  }
 ],
 "metadata": {
  "kernelspec": {
   "display_name": "Python 3 (ipykernel)",
   "language": "python",
   "name": "python3"
  },
  "language_info": {
   "codemirror_mode": {
    "name": "ipython",
    "version": 3
   },
   "file_extension": ".py",
   "mimetype": "text/x-python",
   "name": "python",
   "nbconvert_exporter": "python",
   "pygments_lexer": "ipython3",
   "version": "3.9.12"
  }
 },
 "nbformat": 4,
 "nbformat_minor": 5
}
